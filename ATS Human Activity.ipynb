{
 "cells": [
  {
   "cell_type": "markdown",
   "metadata": {},
   "source": [
    "# Importing Libraries\n"
   ]
  },
  {
   "cell_type": "code",
   "execution_count": 147,
   "metadata": {},
   "outputs": [],
   "source": [
    "import pandas as pd\n",
    "import numpy as np  \n",
    "import matplotlib.pyplot as plt  \n",
    "import seaborn as sns\n",
    "%matplotlib inline"
   ]
  },
  {
   "cell_type": "markdown",
   "metadata": {},
   "source": [
    "# Loading and displaying data"
   ]
  },
  {
   "cell_type": "code",
   "execution_count": 148,
   "metadata": {},
   "outputs": [
    {
     "name": "stdout",
     "output_type": "stream",
     "text": [
      "Data is loaded successfully\n"
     ]
    }
   ],
   "source": [
    "url1=\"C:/Users/91883/Desktop/ATS/csv_files/train.csv\"\n",
    "url2=\"C:\\\\Users\\\\91883\\\\Desktop\\\\ATS\\\\csv_files\\\\test.csv\"\n",
    "train=pd.read_csv(url1)\n",
    "test=pd.read_csv(url2)\n",
    "print(\"Data is loaded successfully\")\n",
    "\n"
   ]
  },
  {
   "cell_type": "markdown",
   "metadata": {},
   "source": [
    "# Displaying the features"
   ]
  },
  {
   "cell_type": "code",
   "execution_count": 149,
   "metadata": {},
   "outputs": [
    {
     "data": {
      "text/plain": [
       "Index(['tBodyAccmeanX', 'tBodyAccmeanY', 'tBodyAccmeanZ', 'tBodyAccstdX',\n",
       "       'tBodyAccstdY', 'tBodyAccstdZ', 'tBodyAccmadX', 'tBodyAccmadY',\n",
       "       'tBodyAccmadZ', 'tBodyAccmaxX', 'tBodyAccmaxY', 'tBodyAccmaxZ',\n",
       "       'tBodyAccminX', 'tBodyAccminY', 'tBodyAccminZ', 'tBodyAccsma',\n",
       "       'tBodyAccenergyX', 'tBodyAccenergyY', 'tBodyAccenergyZ', 'tBodyAcciqrX',\n",
       "       'tBodyAcciqrY', 'tBodyAcciqrZ', 'tBodyAccentropyX', 'tBodyAccentropyY',\n",
       "       'tBodyAccentropyZ', 'tBodyAccarCoeffX1', 'tBodyAccarCoeffX2',\n",
       "       'tBodyAccarCoeffX3', 'tBodyAccarCoeffX4', 'tBodyAccarCoeffY1',\n",
       "       'tBodyAccarCoeffY2', 'tBodyAccarCoeffY3', 'tBodyAccarCoeffY4',\n",
       "       'tBodyAccarCoeffZ1', 'tBodyAccarCoeffZ2', 'tBodyAccarCoeffZ3',\n",
       "       'tBodyAccarCoeffZ4', 'tBodyAcccorrelationXY', 'tBodyAcccorrelationXZ',\n",
       "       'tBodyAcccorrelationYZ', 'tGravityAccmeanX', 'tGravityAccmeanY',\n",
       "       'tGravityAccmeanZ', 'tGravityAccstdX', 'tGravityAccstdY',\n",
       "       'tGravityAccstdZ', 'tGravityAccmadX', 'tGravityAccmadY',\n",
       "       'tGravityAccmadZ', 'tGravityAccmaxX', 'tGravityAccmaxY',\n",
       "       'tGravityAccmaxZ', 'tGravityAccminX', 'tGravityAccminY',\n",
       "       'tGravityAccminZ', 'tGravityAccsma', 'tGravityAccenergyX',\n",
       "       'tGravityAccenergyY', 'tGravityAccenergyZ', 'tGravityAcciqrX',\n",
       "       'tGravityAcciqrY', 'tGravityAcciqrZ', 'tGravityAccentropyX',\n",
       "       'tGravityAccentropyY', 'tGravityAccentropyZ', 'tGravityAccarCoeffX1',\n",
       "       'tGravityAccarCoeffX2', 'tGravityAccarCoeffX3', 'tGravityAccarCoeffX4',\n",
       "       'tGravityAccarCoeffY1', 'tGravityAccarCoeffY2', 'tGravityAccarCoeffY3',\n",
       "       'tGravityAccarCoeffY4', 'tGravityAccarCoeffZ1', 'tGravityAccarCoeffZ2',\n",
       "       'tGravityAccarCoeffZ3', 'tGravityAccarCoeffZ4',\n",
       "       'tGravityAcccorrelationXY', 'tGravityAcccorrelationXZ',\n",
       "       'tGravityAcccorrelationYZ', 'tBodyAccJerkmeanX', 'tBodyAccJerkmeanY',\n",
       "       'tBodyAccJerkmeanZ', 'tBodyAccJerkstdX', 'tBodyAccJerkstdY',\n",
       "       'tBodyAccJerkstdZ', 'tBodyAccJerkmadX', 'tBodyAccJerkmadY',\n",
       "       'tBodyAccJerkmadZ', 'tBodyAccJerkmaxX', 'tBodyAccJerkmaxY',\n",
       "       'tBodyAccJerkmaxZ', 'tBodyAccJerkminX', 'tBodyAccJerkminY',\n",
       "       'tBodyAccJerkminZ', 'tBodyAccJerksma', 'tBodyAccJerkenergyX',\n",
       "       'tBodyAccJerkenergyY', 'tBodyAccJerkenergyZ', 'tBodyAccJerkiqrX',\n",
       "       'tBodyAccJerkiqrY', 'tBodyAccJerkiqrZ', 'tBodyAccJerkentropyX',\n",
       "       'tBodyAccJerkentropyY', 'tBodyAccJerkentropyZ', 'tBodyAccJerkarCoeffX1',\n",
       "       'tBodyAccJerkarCoeffX2', 'tBodyAccJerkarCoeffX3',\n",
       "       'tBodyAccJerkarCoeffX4', 'tBodyAccJerkarCoeffY1',\n",
       "       'tBodyAccJerkarCoeffY2', 'tBodyAccJerkarCoeffY3',\n",
       "       'tBodyAccJerkarCoeffY4', 'tBodyAccJerkarCoeffZ1',\n",
       "       'tBodyAccJerkarCoeffZ2', 'tBodyAccJerkarCoeffZ3',\n",
       "       'tBodyAccJerkarCoeffZ4', 'tBodyAccJerkcorrelationXY',\n",
       "       'tBodyAccJerkcorrelationXZ', 'tBodyAccJerkcorrelationYZ',\n",
       "       'tBodyGyromeanX', 'tBodyGyromeanY', 'tBodyGyromeanZ', 'tBodyGyrostdX',\n",
       "       'tBodyGyrostdY', 'tBodyGyrostdZ', 'tBodyGyromadX', 'tBodyGyromadY',\n",
       "       'tBodyGyromadZ', 'tBodyGyromaxX', 'tBodyGyromaxY', 'tBodyGyromaxZ',\n",
       "       'tBodyGyrominX', 'tBodyGyrominY', 'tBodyGyrominZ', 'tBodyGyrosma',\n",
       "       'tBodyGyroenergyX', 'tBodyGyroenergyY', 'tBodyGyroenergyZ',\n",
       "       'tBodyGyroiqrX', 'tBodyGyroiqrY', 'tBodyGyroiqrZ', 'tBodyGyroentropyX',\n",
       "       'tBodyGyroentropyY', 'tBodyGyroentropyZ', 'tBodyGyroarCoeffX1',\n",
       "       'tBodyGyroarCoeffX2', 'tBodyGyroarCoeffX3', 'tBodyGyroarCoeffX4',\n",
       "       'tBodyGyroarCoeffY1', 'tBodyGyroarCoeffY2', 'tBodyGyroarCoeffY3',\n",
       "       'tBodyGyroarCoeffY4', 'tBodyGyroarCoeffZ1', 'tBodyGyroarCoeffZ2',\n",
       "       'tBodyGyroarCoeffZ3', 'tBodyGyroarCoeffZ4', 'tBodyGyrocorrelationXY',\n",
       "       'tBodyGyrocorrelationXZ', 'tBodyGyrocorrelationYZ',\n",
       "       'tBodyGyroJerkmeanX', 'tBodyGyroJerkmeanY', 'tBodyGyroJerkmeanZ',\n",
       "       'tBodyGyroJerkstdX', 'tBodyGyroJerkstdY', 'tBodyGyroJerkstdZ',\n",
       "       'tBodyGyroJerkmadX', 'tBodyGyroJerkmadY', 'tBodyGyroJerkmadZ',\n",
       "       'tBodyGyroJerkmaxX', 'tBodyGyroJerkmaxY', 'tBodyGyroJerkmaxZ',\n",
       "       'tBodyGyroJerkminX', 'tBodyGyroJerkminY', 'tBodyGyroJerkminZ',\n",
       "       'tBodyGyroJerksma', 'tBodyGyroJerkenergyX', 'tBodyGyroJerkenergyY',\n",
       "       'tBodyGyroJerkenergyZ', 'tBodyGyroJerkiqrX', 'tBodyGyroJerkiqrY',\n",
       "       'tBodyGyroJerkiqrZ', 'tBodyGyroJerkentropyX', 'tBodyGyroJerkentropyY',\n",
       "       'tBodyGyroJerkentropyZ', 'tBodyGyroJerkarCoeffX1',\n",
       "       'tBodyGyroJerkarCoeffX2', 'tBodyGyroJerkarCoeffX3',\n",
       "       'tBodyGyroJerkarCoeffX4', 'tBodyGyroJerkarCoeffY1',\n",
       "       'tBodyGyroJerkarCoeffY2', 'tBodyGyroJerkarCoeffY3',\n",
       "       'tBodyGyroJerkarCoeffY4', 'tBodyGyroJerkarCoeffZ1',\n",
       "       'tBodyGyroJerkarCoeffZ2', 'tBodyGyroJerkarCoeffZ3',\n",
       "       'tBodyGyroJerkarCoeffZ4', 'tBodyGyroJerkcorrelationXY',\n",
       "       'tBodyGyroJerkcorrelationXZ', 'tBodyGyroJerkcorrelationYZ',\n",
       "       'tBodyAccMagmean', 'tBodyAccMagstd', 'tBodyAccMagmad', 'tBodyAccMagmax',\n",
       "       'tBodyAccMagmin', 'tBodyAccMagsma', 'tBodyAccMagenergy',\n",
       "       'tBodyAccMagiqr', 'tBodyAccMagentropy', 'tBodyAccMagarCoeff1',\n",
       "       'tBodyAccMagarCoeff2', 'tBodyAccMagarCoeff3', 'tBodyAccMagarCoeff4',\n",
       "       'tGravityAccMagmean', 'tGravityAccMagstd', 'tGravityAccMagmad',\n",
       "       'tGravityAccMagmax', 'tGravityAccMagmin', 'tGravityAccMagsma',\n",
       "       'tGravityAccMagenergy', 'tGravityAccMagiqr', 'tGravityAccMagentropy',\n",
       "       'tGravityAccMagarCoeff1', 'tGravityAccMagarCoeff2',\n",
       "       'tGravityAccMagarCoeff3', 'tGravityAccMagarCoeff4',\n",
       "       'tBodyAccJerkMagmean', 'tBodyAccJerkMagstd', 'tBodyAccJerkMagmad',\n",
       "       'tBodyAccJerkMagmax', 'tBodyAccJerkMagmin', 'tBodyAccJerkMagsma',\n",
       "       'tBodyAccJerkMagenergy', 'tBodyAccJerkMagiqr', 'tBodyAccJerkMagentropy',\n",
       "       'tBodyAccJerkMagarCoeff1', 'tBodyAccJerkMagarCoeff2',\n",
       "       'tBodyAccJerkMagarCoeff3', 'tBodyAccJerkMagarCoeff4',\n",
       "       'tBodyGyroMagmean', 'tBodyGyroMagstd', 'tBodyGyroMagmad',\n",
       "       'tBodyGyroMagmax', 'tBodyGyroMagmin', 'tBodyGyroMagsma',\n",
       "       'tBodyGyroMagenergy', 'tBodyGyroMagiqr', 'tBodyGyroMagentropy',\n",
       "       'tBodyGyroMagarCoeff1', 'tBodyGyroMagarCoeff2', 'tBodyGyroMagarCoeff3',\n",
       "       'tBodyGyroMagarCoeff4', 'tBodyGyroJerkMagmean', 'tBodyGyroJerkMagstd',\n",
       "       'tBodyGyroJerkMagmad', 'tBodyGyroJerkMagmax', 'tBodyGyroJerkMagmin',\n",
       "       'tBodyGyroJerkMagsma', 'tBodyGyroJerkMagenergy', 'tBodyGyroJerkMagiqr',\n",
       "       'tBodyGyroJerkMagentropy', 'tBodyGyroJerkMagarCoeff1',\n",
       "       'tBodyGyroJerkMagarCoeff2', 'tBodyGyroJerkMagarCoeff3',\n",
       "       'tBodyGyroJerkMagarCoeff4', 'fBodyAccmeanX', 'fBodyAccmeanY',\n",
       "       'fBodyAccmeanZ', 'fBodyAccstdX', 'fBodyAccstdY', 'fBodyAccstdZ',\n",
       "       'fBodyAccmadX', 'fBodyAccmadY', 'fBodyAccmadZ', 'fBodyAccmaxX',\n",
       "       'fBodyAccmaxY', 'fBodyAccmaxZ', 'fBodyAccminX', 'fBodyAccminY',\n",
       "       'fBodyAccminZ', 'fBodyAccsma', 'fBodyAccenergyX', 'fBodyAccenergyY',\n",
       "       'fBodyAccenergyZ', 'fBodyAcciqrX', 'fBodyAcciqrY', 'fBodyAcciqrZ',\n",
       "       'fBodyAccentropyX', 'fBodyAccentropyY', 'fBodyAccentropyZ',\n",
       "       'fBodyAccmaxIndsX', 'fBodyAccmaxIndsY', 'fBodyAccmaxIndsZ',\n",
       "       'fBodyAccmeanFreqX', 'fBodyAccmeanFreqY', 'fBodyAccmeanFreqZ',\n",
       "       'fBodyAccskewnessX', 'fBodyAcckurtosisX', 'fBodyAccskewnessY',\n",
       "       'fBodyAcckurtosisY', 'fBodyAccskewnessZ', 'fBodyAcckurtosisZ',\n",
       "       'fBodyAccbandsEnergy18', 'fBodyAccbandsEnergy916',\n",
       "       'fBodyAccbandsEnergy1724', 'fBodyAccbandsEnergy2532',\n",
       "       'fBodyAccbandsEnergy3340', 'fBodyAccbandsEnergy4148',\n",
       "       'fBodyAccbandsEnergy4956', 'fBodyAccbandsEnergy5764',\n",
       "       'fBodyAccbandsEnergy116', 'fBodyAccbandsEnergy1732',\n",
       "       'fBodyAccbandsEnergy3348', 'fBodyAccbandsEnergy4964',\n",
       "       'fBodyAccbandsEnergy124', 'fBodyAccbandsEnergy2548',\n",
       "       'fBodyAccbandsEnergy18.1', 'fBodyAccbandsEnergy916.1',\n",
       "       'fBodyAccbandsEnergy1724.1', 'fBodyAccbandsEnergy2532.1',\n",
       "       'fBodyAccbandsEnergy3340.1', 'fBodyAccbandsEnergy4148.1',\n",
       "       'fBodyAccbandsEnergy4956.1', 'fBodyAccbandsEnergy5764.1',\n",
       "       'fBodyAccbandsEnergy116.1', 'fBodyAccbandsEnergy1732.1',\n",
       "       'fBodyAccbandsEnergy3348.1', 'fBodyAccbandsEnergy4964.1',\n",
       "       'fBodyAccbandsEnergy124.1', 'fBodyAccbandsEnergy2548.1',\n",
       "       'fBodyAccbandsEnergy18.2', 'fBodyAccbandsEnergy916.2',\n",
       "       'fBodyAccbandsEnergy1724.2', 'fBodyAccbandsEnergy2532.2',\n",
       "       'fBodyAccbandsEnergy3340.2', 'fBodyAccbandsEnergy4148.2',\n",
       "       'fBodyAccbandsEnergy4956.2', 'fBodyAccbandsEnergy5764.2',\n",
       "       'fBodyAccbandsEnergy116.2', 'fBodyAccbandsEnergy1732.2',\n",
       "       'fBodyAccbandsEnergy3348.2', 'fBodyAccbandsEnergy4964.2',\n",
       "       'fBodyAccbandsEnergy124.2', 'fBodyAccbandsEnergy2548.2',\n",
       "       'fBodyAccJerkmeanX', 'fBodyAccJerkmeanY', 'fBodyAccJerkmeanZ',\n",
       "       'fBodyAccJerkstdX', 'fBodyAccJerkstdY', 'fBodyAccJerkstdZ',\n",
       "       'fBodyAccJerkmadX', 'fBodyAccJerkmadY', 'fBodyAccJerkmadZ',\n",
       "       'fBodyAccJerkmaxX', 'fBodyAccJerkmaxY', 'fBodyAccJerkmaxZ',\n",
       "       'fBodyAccJerkminX', 'fBodyAccJerkminY', 'fBodyAccJerkminZ',\n",
       "       'fBodyAccJerksma', 'fBodyAccJerkenergyX', 'fBodyAccJerkenergyY',\n",
       "       'fBodyAccJerkenergyZ', 'fBodyAccJerkiqrX', 'fBodyAccJerkiqrY',\n",
       "       'fBodyAccJerkiqrZ', 'fBodyAccJerkentropyX', 'fBodyAccJerkentropyY',\n",
       "       'fBodyAccJerkentropyZ', 'fBodyAccJerkmaxIndsX', 'fBodyAccJerkmaxIndsY',\n",
       "       'fBodyAccJerkmaxIndsZ', 'fBodyAccJerkmeanFreqX',\n",
       "       'fBodyAccJerkmeanFreqY', 'fBodyAccJerkmeanFreqZ',\n",
       "       'fBodyAccJerkskewnessX', 'fBodyAccJerkkurtosisX',\n",
       "       'fBodyAccJerkskewnessY', 'fBodyAccJerkkurtosisY',\n",
       "       'fBodyAccJerkskewnessZ', 'fBodyAccJerkkurtosisZ',\n",
       "       'fBodyAccJerkbandsEnergy18', 'fBodyAccJerkbandsEnergy916',\n",
       "       'fBodyAccJerkbandsEnergy1724', 'fBodyAccJerkbandsEnergy2532',\n",
       "       'fBodyAccJerkbandsEnergy3340', 'fBodyAccJerkbandsEnergy4148',\n",
       "       'fBodyAccJerkbandsEnergy4956', 'fBodyAccJerkbandsEnergy5764',\n",
       "       'fBodyAccJerkbandsEnergy116', 'fBodyAccJerkbandsEnergy1732',\n",
       "       'fBodyAccJerkbandsEnergy3348', 'fBodyAccJerkbandsEnergy4964',\n",
       "       'fBodyAccJerkbandsEnergy124', 'fBodyAccJerkbandsEnergy2548',\n",
       "       'fBodyAccJerkbandsEnergy18.1', 'fBodyAccJerkbandsEnergy916.1',\n",
       "       'fBodyAccJerkbandsEnergy1724.1', 'fBodyAccJerkbandsEnergy2532.1',\n",
       "       'fBodyAccJerkbandsEnergy3340.1', 'fBodyAccJerkbandsEnergy4148.1',\n",
       "       'fBodyAccJerkbandsEnergy4956.1', 'fBodyAccJerkbandsEnergy5764.1',\n",
       "       'fBodyAccJerkbandsEnergy116.1', 'fBodyAccJerkbandsEnergy1732.1',\n",
       "       'fBodyAccJerkbandsEnergy3348.1', 'fBodyAccJerkbandsEnergy4964.1',\n",
       "       'fBodyAccJerkbandsEnergy124.1', 'fBodyAccJerkbandsEnergy2548.1',\n",
       "       'fBodyAccJerkbandsEnergy18.2', 'fBodyAccJerkbandsEnergy916.2',\n",
       "       'fBodyAccJerkbandsEnergy1724.2', 'fBodyAccJerkbandsEnergy2532.2',\n",
       "       'fBodyAccJerkbandsEnergy3340.2', 'fBodyAccJerkbandsEnergy4148.2',\n",
       "       'fBodyAccJerkbandsEnergy4956.2', 'fBodyAccJerkbandsEnergy5764.2',\n",
       "       'fBodyAccJerkbandsEnergy116.2', 'fBodyAccJerkbandsEnergy1732.2',\n",
       "       'fBodyAccJerkbandsEnergy3348.2', 'fBodyAccJerkbandsEnergy4964.2',\n",
       "       'fBodyAccJerkbandsEnergy124.2', 'fBodyAccJerkbandsEnergy2548.2',\n",
       "       'fBodyGyromeanX', 'fBodyGyromeanY', 'fBodyGyromeanZ', 'fBodyGyrostdX',\n",
       "       'fBodyGyrostdY', 'fBodyGyrostdZ', 'fBodyGyromadX', 'fBodyGyromadY',\n",
       "       'fBodyGyromadZ', 'fBodyGyromaxX', 'fBodyGyromaxY', 'fBodyGyromaxZ',\n",
       "       'fBodyGyrominX', 'fBodyGyrominY', 'fBodyGyrominZ', 'fBodyGyrosma',\n",
       "       'fBodyGyroenergyX', 'fBodyGyroenergyY', 'fBodyGyroenergyZ',\n",
       "       'fBodyGyroiqrX', 'fBodyGyroiqrY', 'fBodyGyroiqrZ', 'fBodyGyroentropyX',\n",
       "       'fBodyGyroentropyY', 'fBodyGyroentropyZ', 'fBodyGyromaxIndsX',\n",
       "       'fBodyGyromaxIndsY', 'fBodyGyromaxIndsZ', 'fBodyGyromeanFreqX',\n",
       "       'fBodyGyromeanFreqY', 'fBodyGyromeanFreqZ', 'fBodyGyroskewnessX',\n",
       "       'fBodyGyrokurtosisX', 'fBodyGyroskewnessY', 'fBodyGyrokurtosisY',\n",
       "       'fBodyGyroskewnessZ', 'fBodyGyrokurtosisZ', 'fBodyGyrobandsEnergy18',\n",
       "       'fBodyGyrobandsEnergy916', 'fBodyGyrobandsEnergy1724',\n",
       "       'fBodyGyrobandsEnergy2532', 'fBodyGyrobandsEnergy3340',\n",
       "       'fBodyGyrobandsEnergy4148', 'fBodyGyrobandsEnergy4956',\n",
       "       'fBodyGyrobandsEnergy5764', 'fBodyGyrobandsEnergy116',\n",
       "       'fBodyGyrobandsEnergy1732', 'fBodyGyrobandsEnergy3348',\n",
       "       'fBodyGyrobandsEnergy4964', 'fBodyGyrobandsEnergy124',\n",
       "       'fBodyGyrobandsEnergy2548', 'fBodyGyrobandsEnergy18.1',\n",
       "       'fBodyGyrobandsEnergy916.1', 'fBodyGyrobandsEnergy1724.1',\n",
       "       'fBodyGyrobandsEnergy2532.1', 'fBodyGyrobandsEnergy3340.1',\n",
       "       'fBodyGyrobandsEnergy4148.1', 'fBodyGyrobandsEnergy4956.1',\n",
       "       'fBodyGyrobandsEnergy5764.1', 'fBodyGyrobandsEnergy116.1',\n",
       "       'fBodyGyrobandsEnergy1732.1', 'fBodyGyrobandsEnergy3348.1',\n",
       "       'fBodyGyrobandsEnergy4964.1', 'fBodyGyrobandsEnergy124.1',\n",
       "       'fBodyGyrobandsEnergy2548.1', 'fBodyGyrobandsEnergy18.2',\n",
       "       'fBodyGyrobandsEnergy916.2', 'fBodyGyrobandsEnergy1724.2',\n",
       "       'fBodyGyrobandsEnergy2532.2', 'fBodyGyrobandsEnergy3340.2',\n",
       "       'fBodyGyrobandsEnergy4148.2', 'fBodyGyrobandsEnergy4956.2',\n",
       "       'fBodyGyrobandsEnergy5764.2', 'fBodyGyrobandsEnergy116.2',\n",
       "       'fBodyGyrobandsEnergy1732.2', 'fBodyGyrobandsEnergy3348.2',\n",
       "       'fBodyGyrobandsEnergy4964.2', 'fBodyGyrobandsEnergy124.2',\n",
       "       'fBodyGyrobandsEnergy2548.2', 'fBodyAccMagmean', 'fBodyAccMagstd',\n",
       "       'fBodyAccMagmad', 'fBodyAccMagmax', 'fBodyAccMagmin', 'fBodyAccMagsma',\n",
       "       'fBodyAccMagenergy', 'fBodyAccMagiqr', 'fBodyAccMagentropy',\n",
       "       'fBodyAccMagmaxInds', 'fBodyAccMagmeanFreq', 'fBodyAccMagskewness',\n",
       "       'fBodyAccMagkurtosis', 'fBodyBodyAccJerkMagmean',\n",
       "       'fBodyBodyAccJerkMagstd', 'fBodyBodyAccJerkMagmad',\n",
       "       'fBodyBodyAccJerkMagmax', 'fBodyBodyAccJerkMagmin',\n",
       "       'fBodyBodyAccJerkMagsma', 'fBodyBodyAccJerkMagenergy',\n",
       "       'fBodyBodyAccJerkMagiqr', 'fBodyBodyAccJerkMagentropy',\n",
       "       'fBodyBodyAccJerkMagmaxInds', 'fBodyBodyAccJerkMagmeanFreq',\n",
       "       'fBodyBodyAccJerkMagskewness', 'fBodyBodyAccJerkMagkurtosis',\n",
       "       'fBodyBodyGyroMagmean', 'fBodyBodyGyroMagstd', 'fBodyBodyGyroMagmad',\n",
       "       'fBodyBodyGyroMagmax', 'fBodyBodyGyroMagmin', 'fBodyBodyGyroMagsma',\n",
       "       'fBodyBodyGyroMagenergy', 'fBodyBodyGyroMagiqr',\n",
       "       'fBodyBodyGyroMagentropy', 'fBodyBodyGyroMagmaxInds',\n",
       "       'fBodyBodyGyroMagmeanFreq', 'fBodyBodyGyroMagskewness',\n",
       "       'fBodyBodyGyroMagkurtosis', 'fBodyBodyGyroJerkMagmean',\n",
       "       'fBodyBodyGyroJerkMagstd', 'fBodyBodyGyroJerkMagmad',\n",
       "       'fBodyBodyGyroJerkMagmax', 'fBodyBodyGyroJerkMagmin',\n",
       "       'fBodyBodyGyroJerkMagsma', 'fBodyBodyGyroJerkMagenergy',\n",
       "       'fBodyBodyGyroJerkMagiqr', 'fBodyBodyGyroJerkMagentropy',\n",
       "       'fBodyBodyGyroJerkMagmaxInds', 'fBodyBodyGyroJerkMagmeanFreq',\n",
       "       'fBodyBodyGyroJerkMagskewness', 'fBodyBodyGyroJerkMagkurtosis',\n",
       "       'angletBodyAccMeangravity', 'angletBodyAccJerkMeangravityMean',\n",
       "       'angletBodyGyroMeangravityMean', 'angletBodyGyroJerkMeangravityMean',\n",
       "       'angleXgravityMean', 'angleYgravityMean', 'angleZgravityMean',\n",
       "       'subject', 'Activity', 'ActivityName'],\n",
       "      dtype='object')"
      ]
     },
     "execution_count": 149,
     "metadata": {},
     "output_type": "execute_result"
    }
   ],
   "source": [
    "pd.options.display.max_seq_items=600\n",
    "train.columns"
   ]
  },
  {
   "cell_type": "markdown",
   "metadata": {},
   "source": [
    "# Exploratory visualization"
   ]
  },
  {
   "cell_type": "code",
   "execution_count": 150,
   "metadata": {},
   "outputs": [
    {
     "data": {
      "text/plain": [
       "<matplotlib.axes._subplots.AxesSubplot at 0x28eac51cc70>"
      ]
     },
     "execution_count": 150,
     "metadata": {},
     "output_type": "execute_result"
    },
    {
     "data": {
      "image/png": "[encoded data removed]",
      "text/plain": [
       "<Figure size 432x288 with 1 Axes>"
      ]
     },
     "metadata": {
      "needs_background": "light"
     },
     "output_type": "display_data"
    }
   ],
   "source": [
    "sns.distplot(train.Activity)"
   ]
  },
  {
   "cell_type": "code",
   "execution_count": 151,
   "metadata": {},
   "outputs": [
    {
     "data": {
      "text/plain": [
       "tBodyAccmeanX        0\n",
       "tBodyAccmeanY        0\n",
       "tBodyAccmeanZ        0\n",
       "tBodyAccstdX         0\n",
       "tBodyAccstdY         0\n",
       "                    ..\n",
       "angleYgravityMean    0\n",
       "angleZgravityMean    0\n",
       "subject              0\n",
       "Activity             0\n",
       "ActivityName         0\n",
       "Length: 564, dtype: int64"
      ]
     },
     "execution_count": 151,
     "metadata": {},
     "output_type": "execute_result"
    }
   ],
   "source": [
    "train.isnull().sum()"
   ]
  },
  {
   "cell_type": "code",
   "execution_count": 152,
   "metadata": {},
   "outputs": [
    {
     "data": {
      "text/plain": [
       "tBodyAccmeanX        0\n",
       "tBodyAccmeanY        0\n",
       "tBodyAccmeanZ        0\n",
       "tBodyAccstdX         0\n",
       "tBodyAccstdY         0\n",
       "                    ..\n",
       "angleYgravityMean    0\n",
       "angleZgravityMean    0\n",
       "subject              0\n",
       "Activity             0\n",
       "ActivityName         0\n",
       "Length: 564, dtype: int64"
      ]
     },
     "execution_count": 152,
     "metadata": {},
     "output_type": "execute_result"
    }
   ],
   "source": [
    "test.isnull().sum()"
   ]
  },
  {
   "cell_type": "code",
   "execution_count": 153,
   "metadata": {},
   "outputs": [
    {
     "name": "stdout",
     "output_type": "stream",
     "text": [
      "<class 'pandas.core.frame.DataFrame'>\n",
      "RangeIndex: 7352 entries, 0 to 7351\n",
      "Columns: 564 entries, tBodyAccmeanX to ActivityName\n",
      "dtypes: float64(561), int64(2), object(1)\n",
      "memory usage: 31.6+ MB\n"
     ]
    }
   ],
   "source": [
    "train.info()"
   ]
  },
  {
   "cell_type": "code",
   "execution_count": 154,
   "metadata": {},
   "outputs": [
    {
     "data": {
      "text/html": [
       "<div>\n",
       "<style scoped>\n",
       "    .dataframe tbody tr th:only-of-type {\n",
       "        vertical-align: middle;\n",
       "    }\n",
       "\n",
       "    .dataframe tbody tr th {\n",
       "        vertical-align: top;\n",
       "    }\n",
       "\n",
       "    .dataframe thead th {\n",
       "        text-align: right;\n",
       "    }\n",
       "</style>\n",
       "<table border=\"1\" class=\"dataframe\">\n",
       "  <thead>\n",
       "    <tr style=\"text-align: right;\">\n",
       "      <th></th>\n",
       "      <th>tBodyAccmeanX</th>\n",
       "      <th>tBodyAccmeanY</th>\n",
       "      <th>tBodyAccmeanZ</th>\n",
       "      <th>tBodyAccstdX</th>\n",
       "      <th>tBodyAccstdY</th>\n",
       "      <th>tBodyAccstdZ</th>\n",
       "      <th>tBodyAccmadX</th>\n",
       "      <th>tBodyAccmadY</th>\n",
       "      <th>tBodyAccmadZ</th>\n",
       "      <th>tBodyAccmaxX</th>\n",
       "      <th>...</th>\n",
       "      <th>fBodyBodyGyroJerkMagkurtosis</th>\n",
       "      <th>angletBodyAccMeangravity</th>\n",
       "      <th>angletBodyAccJerkMeangravityMean</th>\n",
       "      <th>angletBodyGyroMeangravityMean</th>\n",
       "      <th>angletBodyGyroJerkMeangravityMean</th>\n",
       "      <th>angleXgravityMean</th>\n",
       "      <th>angleYgravityMean</th>\n",
       "      <th>angleZgravityMean</th>\n",
       "      <th>subject</th>\n",
       "      <th>Activity</th>\n",
       "    </tr>\n",
       "  </thead>\n",
       "  <tbody>\n",
       "    <tr>\n",
       "      <th>count</th>\n",
       "      <td>7352.000000</td>\n",
       "      <td>7352.000000</td>\n",
       "      <td>7352.000000</td>\n",
       "      <td>7352.000000</td>\n",
       "      <td>7352.000000</td>\n",
       "      <td>7352.000000</td>\n",
       "      <td>7352.000000</td>\n",
       "      <td>7352.000000</td>\n",
       "      <td>7352.000000</td>\n",
       "      <td>7352.000000</td>\n",
       "      <td>...</td>\n",
       "      <td>7352.000000</td>\n",
       "      <td>7352.000000</td>\n",
       "      <td>7352.000000</td>\n",
       "      <td>7352.000000</td>\n",
       "      <td>7352.000000</td>\n",
       "      <td>7352.000000</td>\n",
       "      <td>7352.000000</td>\n",
       "      <td>7352.000000</td>\n",
       "      <td>7352.000000</td>\n",
       "      <td>7352.000000</td>\n",
       "    </tr>\n",
       "    <tr>\n",
       "      <th>mean</th>\n",
       "      <td>0.274488</td>\n",
       "      <td>-0.017695</td>\n",
       "      <td>-0.109141</td>\n",
       "      <td>-0.605438</td>\n",
       "      <td>-0.510938</td>\n",
       "      <td>-0.604754</td>\n",
       "      <td>-0.630512</td>\n",
       "      <td>-0.526907</td>\n",
       "      <td>-0.606150</td>\n",
       "      <td>-0.468604</td>\n",
       "      <td>...</td>\n",
       "      <td>-0.625294</td>\n",
       "      <td>0.008684</td>\n",
       "      <td>0.002186</td>\n",
       "      <td>0.008726</td>\n",
       "      <td>-0.005981</td>\n",
       "      <td>-0.489547</td>\n",
       "      <td>0.058593</td>\n",
       "      <td>-0.056515</td>\n",
       "      <td>17.413085</td>\n",
       "      <td>3.643362</td>\n",
       "    </tr>\n",
       "    <tr>\n",
       "      <th>std</th>\n",
       "      <td>0.070261</td>\n",
       "      <td>0.040811</td>\n",
       "      <td>0.056635</td>\n",
       "      <td>0.448734</td>\n",
       "      <td>0.502645</td>\n",
       "      <td>0.418687</td>\n",
       "      <td>0.424073</td>\n",
       "      <td>0.485942</td>\n",
       "      <td>0.414122</td>\n",
       "      <td>0.544547</td>\n",
       "      <td>...</td>\n",
       "      <td>0.307584</td>\n",
       "      <td>0.336787</td>\n",
       "      <td>0.448306</td>\n",
       "      <td>0.608303</td>\n",
       "      <td>0.477975</td>\n",
       "      <td>0.511807</td>\n",
       "      <td>0.297480</td>\n",
       "      <td>0.279122</td>\n",
       "      <td>8.975143</td>\n",
       "      <td>1.744802</td>\n",
       "    </tr>\n",
       "    <tr>\n",
       "      <th>min</th>\n",
       "      <td>-1.000000</td>\n",
       "      <td>-1.000000</td>\n",
       "      <td>-1.000000</td>\n",
       "      <td>-1.000000</td>\n",
       "      <td>-0.999873</td>\n",
       "      <td>-1.000000</td>\n",
       "      <td>-1.000000</td>\n",
       "      <td>-1.000000</td>\n",
       "      <td>-1.000000</td>\n",
       "      <td>-1.000000</td>\n",
       "      <td>...</td>\n",
       "      <td>-0.999765</td>\n",
       "      <td>-0.976580</td>\n",
       "      <td>-1.000000</td>\n",
       "      <td>-1.000000</td>\n",
       "      <td>-1.000000</td>\n",
       "      <td>-1.000000</td>\n",
       "      <td>-1.000000</td>\n",
       "      <td>-1.000000</td>\n",
       "      <td>1.000000</td>\n",
       "      <td>1.000000</td>\n",
       "    </tr>\n",
       "    <tr>\n",
       "      <th>25%</th>\n",
       "      <td>0.262975</td>\n",
       "      <td>-0.024863</td>\n",
       "      <td>-0.120993</td>\n",
       "      <td>-0.992754</td>\n",
       "      <td>-0.978129</td>\n",
       "      <td>-0.980233</td>\n",
       "      <td>-0.993591</td>\n",
       "      <td>-0.978162</td>\n",
       "      <td>-0.980251</td>\n",
       "      <td>-0.936219</td>\n",
       "      <td>...</td>\n",
       "      <td>-0.845573</td>\n",
       "      <td>-0.121527</td>\n",
       "      <td>-0.289549</td>\n",
       "      <td>-0.482273</td>\n",
       "      <td>-0.376341</td>\n",
       "      <td>-0.812065</td>\n",
       "      <td>-0.017885</td>\n",
       "      <td>-0.143414</td>\n",
       "      <td>8.000000</td>\n",
       "      <td>2.000000</td>\n",
       "    </tr>\n",
       "    <tr>\n",
       "      <th>50%</th>\n",
       "      <td>0.277193</td>\n",
       "      <td>-0.017219</td>\n",
       "      <td>-0.108676</td>\n",
       "      <td>-0.946196</td>\n",
       "      <td>-0.851897</td>\n",
       "      <td>-0.859365</td>\n",
       "      <td>-0.950709</td>\n",
       "      <td>-0.857328</td>\n",
       "      <td>-0.857143</td>\n",
       "      <td>-0.881637</td>\n",
       "      <td>...</td>\n",
       "      <td>-0.711692</td>\n",
       "      <td>0.009509</td>\n",
       "      <td>0.008943</td>\n",
       "      <td>0.008735</td>\n",
       "      <td>-0.000368</td>\n",
       "      <td>-0.709417</td>\n",
       "      <td>0.182071</td>\n",
       "      <td>0.003181</td>\n",
       "      <td>19.000000</td>\n",
       "      <td>4.000000</td>\n",
       "    </tr>\n",
       "    <tr>\n",
       "      <th>75%</th>\n",
       "      <td>0.288461</td>\n",
       "      <td>-0.010783</td>\n",
       "      <td>-0.097794</td>\n",
       "      <td>-0.242813</td>\n",
       "      <td>-0.034231</td>\n",
       "      <td>-0.262415</td>\n",
       "      <td>-0.292680</td>\n",
       "      <td>-0.066701</td>\n",
       "      <td>-0.265671</td>\n",
       "      <td>-0.017129</td>\n",
       "      <td>...</td>\n",
       "      <td>-0.503878</td>\n",
       "      <td>0.150865</td>\n",
       "      <td>0.292861</td>\n",
       "      <td>0.506187</td>\n",
       "      <td>0.359368</td>\n",
       "      <td>-0.509079</td>\n",
       "      <td>0.248353</td>\n",
       "      <td>0.107659</td>\n",
       "      <td>26.000000</td>\n",
       "      <td>5.000000</td>\n",
       "    </tr>\n",
       "    <tr>\n",
       "      <th>max</th>\n",
       "      <td>1.000000</td>\n",
       "      <td>1.000000</td>\n",
       "      <td>1.000000</td>\n",
       "      <td>1.000000</td>\n",
       "      <td>0.916238</td>\n",
       "      <td>1.000000</td>\n",
       "      <td>1.000000</td>\n",
       "      <td>0.967664</td>\n",
       "      <td>1.000000</td>\n",
       "      <td>1.000000</td>\n",
       "      <td>...</td>\n",
       "      <td>0.956845</td>\n",
       "      <td>1.000000</td>\n",
       "      <td>1.000000</td>\n",
       "      <td>0.998702</td>\n",
       "      <td>0.996078</td>\n",
       "      <td>1.000000</td>\n",
       "      <td>0.478157</td>\n",
       "      <td>1.000000</td>\n",
       "      <td>30.000000</td>\n",
       "      <td>6.000000</td>\n",
       "    </tr>\n",
       "  </tbody>\n",
       "</table>\n",
       "<p>8 rows × 563 columns</p>\n",
       "</div>"
      ],
      "text/plain": [
       "       tBodyAccmeanX  tBodyAccmeanY  tBodyAccmeanZ  tBodyAccstdX  \\\n",
       "count    7352.000000    7352.000000    7352.000000   7352.000000   \n",
       "mean        0.274488      -0.017695      -0.109141     -0.605438   \n",
       "std         0.070261       0.040811       0.056635      0.448734   \n",
       "min        -1.000000      -1.000000      -1.000000     -1.000000   \n",
       "25%         0.262975      -0.024863      -0.120993     -0.992754   \n",
       "50%         0.277193      -0.017219      -0.108676     -0.946196   \n",
       "75%         0.288461      -0.010783      -0.097794     -0.242813   \n",
       "max         1.000000       1.000000       1.000000      1.000000   \n",
       "\n",
       "       tBodyAccstdY  tBodyAccstdZ  tBodyAccmadX  tBodyAccmadY  tBodyAccmadZ  \\\n",
       "count   7352.000000   7352.000000   7352.000000   7352.000000   7352.000000   \n",
       "mean      -0.510938     -0.604754     -0.630512     -0.526907     -0.606150   \n",
       "std        0.502645      0.418687      0.424073      0.485942      0.414122   \n",
       "min       -0.999873     -1.000000     -1.000000     -1.000000     -1.000000   \n",
       "25%       -0.978129     -0.980233     -0.993591     -0.978162     -0.980251   \n",
       "50%       -0.851897     -0.859365     -0.950709     -0.857328     -0.857143   \n",
       "75%       -0.034231     -0.262415     -0.292680     -0.066701     -0.265671   \n",
       "max        0.916238      1.000000      1.000000      0.967664      1.000000   \n",
       "\n",
       "       tBodyAccmaxX  ...  fBodyBodyGyroJerkMagkurtosis  \\\n",
       "count   7352.000000  ...                   7352.000000   \n",
       "mean      -0.468604  ...                     -0.625294   \n",
       "std        0.544547  ...                      0.307584   \n",
       "min       -1.000000  ...                     -0.999765   \n",
       "25%       -0.936219  ...                     -0.845573   \n",
       "50%       -0.881637  ...                     -0.711692   \n",
       "75%       -0.017129  ...                     -0.503878   \n",
       "max        1.000000  ...                      0.956845   \n",
       "\n",
       "       angletBodyAccMeangravity  angletBodyAccJerkMeangravityMean  \\\n",
       "count               7352.000000                       7352.000000   \n",
       "mean                   0.008684                          0.002186   \n",
       "std                    0.336787                          0.448306   \n",
       "min                   -0.976580                         -1.000000   \n",
       "25%                   -0.121527                         -0.289549   \n",
       "50%                    0.009509                          0.008943   \n",
       "75%                    0.150865                          0.292861   \n",
       "max                    1.000000                          1.000000   \n",
       "\n",
       "       angletBodyGyroMeangravityMean  angletBodyGyroJerkMeangravityMean  \\\n",
       "count                    7352.000000                        7352.000000   \n",
       "mean                        0.008726                          -0.005981   \n",
       "std                         0.608303                           0.477975   \n",
       "min                        -1.000000                          -1.000000   \n",
       "25%                        -0.482273                          -0.376341   \n",
       "50%                         0.008735                          -0.000368   \n",
       "75%                         0.506187                           0.359368   \n",
       "max                         0.998702                           0.996078   \n",
       "\n",
       "       angleXgravityMean  angleYgravityMean  angleZgravityMean      subject  \\\n",
       "count        7352.000000        7352.000000        7352.000000  7352.000000   \n",
       "mean           -0.489547           0.058593          -0.056515    17.413085   \n",
       "std             0.511807           0.297480           0.279122     8.975143   \n",
       "min            -1.000000          -1.000000          -1.000000     1.000000   \n",
       "25%            -0.812065          -0.017885          -0.143414     8.000000   \n",
       "50%            -0.709417           0.182071           0.003181    19.000000   \n",
       "75%            -0.509079           0.248353           0.107659    26.000000   \n",
       "max             1.000000           0.478157           1.000000    30.000000   \n",
       "\n",
       "          Activity  \n",
       "count  7352.000000  \n",
       "mean      3.643362  \n",
       "std       1.744802  \n",
       "min       1.000000  \n",
       "25%       2.000000  \n",
       "50%       4.000000  \n",
       "75%       5.000000  \n",
       "max       6.000000  \n",
       "\n",
       "[8 rows x 563 columns]"
      ]
     },
     "execution_count": 154,
     "metadata": {},
     "output_type": "execute_result"
    }
   ],
   "source": [
    "train.describe()"
   ]
  },
  {
   "cell_type": "code",
   "execution_count": 155,
   "metadata": {},
   "outputs": [
    {
     "data": {
      "text/html": [
       "<div>\n",
       "<style scoped>\n",
       "    .dataframe tbody tr th:only-of-type {\n",
       "        vertical-align: middle;\n",
       "    }\n",
       "\n",
       "    .dataframe tbody tr th {\n",
       "        vertical-align: top;\n",
       "    }\n",
       "\n",
       "    .dataframe thead th {\n",
       "        text-align: right;\n",
       "    }\n",
       "</style>\n",
       "<table border=\"1\" class=\"dataframe\">\n",
       "  <thead>\n",
       "    <tr style=\"text-align: right;\">\n",
       "      <th></th>\n",
       "      <th>ActivityName</th>\n",
       "    </tr>\n",
       "  </thead>\n",
       "  <tbody>\n",
       "    <tr>\n",
       "      <th>count</th>\n",
       "      <td>7352</td>\n",
       "    </tr>\n",
       "    <tr>\n",
       "      <th>unique</th>\n",
       "      <td>6</td>\n",
       "    </tr>\n",
       "    <tr>\n",
       "      <th>top</th>\n",
       "      <td>LAYING</td>\n",
       "    </tr>\n",
       "    <tr>\n",
       "      <th>freq</th>\n",
       "      <td>1407</td>\n",
       "    </tr>\n",
       "  </tbody>\n",
       "</table>\n",
       "</div>"
      ],
      "text/plain": [
       "       ActivityName\n",
       "count          7352\n",
       "unique            6\n",
       "top          LAYING\n",
       "freq           1407"
      ]
     },
     "execution_count": 155,
     "metadata": {},
     "output_type": "execute_result"
    }
   ],
   "source": [
    "train.describe(include=object)"
   ]
  },
  {
   "cell_type": "code",
   "execution_count": 156,
   "metadata": {},
   "outputs": [
    {
     "data": {
      "text/plain": [
       "LAYING                1407\n",
       "STANDING              1374\n",
       "SITTING               1286\n",
       "WALKING               1226\n",
       "WALKING_UPSTAIRS      1073\n",
       "WALKING_DOWNSTAIRS     986\n",
       "Name: ActivityName, dtype: int64"
      ]
     },
     "execution_count": 156,
     "metadata": {},
     "output_type": "execute_result"
    }
   ],
   "source": [
    "train[\"ActivityName\"].value_counts()"
   ]
  },
  {
   "cell_type": "code",
   "execution_count": 157,
   "metadata": {},
   "outputs": [
    {
     "data": {
      "text/plain": [
       "LAYING                0.191376\n",
       "STANDING              0.186888\n",
       "SITTING               0.174918\n",
       "WALKING               0.166757\n",
       "WALKING_UPSTAIRS      0.145947\n",
       "WALKING_DOWNSTAIRS    0.134113\n",
       "Name: ActivityName, dtype: float64"
      ]
     },
     "execution_count": 157,
     "metadata": {},
     "output_type": "execute_result"
    }
   ],
   "source": [
    "train[\"ActivityName\"].value_counts(normalize=True)"
   ]
  },
  {
   "cell_type": "code",
   "execution_count": 158,
   "metadata": {},
   "outputs": [
    {
     "data": {
      "text/plain": [
       "<matplotlib.colorbar.Colorbar at 0x28eacdc9ee0>"
      ]
     },
     "execution_count": 158,
     "metadata": {},
     "output_type": "execute_result"
    },
    {
     "data": {
      "image/png": "[encoded data removed]",
      "text/plain": [
       "<Figure size 432x288 with 2 Axes>"
      ]
     },
     "metadata": {
      "needs_background": "light"
     },
     "output_type": "display_data"
    }
   ],
   "source": [
    "plt.imshow(train.corr())\n",
    "plt.colorbar()"
   ]
  },
  {
   "cell_type": "code",
   "execution_count": 159,
   "metadata": {},
   "outputs": [],
   "source": [
    "x = train.drop(\"ActivityName\",axis=1)\n",
    "y = train[\"ActivityName\"]"
   ]
  },
  {
   "cell_type": "markdown",
   "metadata": {},
   "source": [
    "# Building a Logistic Regression Model"
   ]
  },
  {
   "cell_type": "code",
   "execution_count": 160,
   "metadata": {},
   "outputs": [],
   "source": [
    "from sklearn.model_selection import train_test_split\n",
    "x_train,x_test,y_train,y_test = train_test_split(x,y,test_size=0.2)"
   ]
  },
  {
   "cell_type": "code",
   "execution_count": 161,
   "metadata": {
    "scrolled": true
   },
   "outputs": [
    {
     "name": "stderr",
     "output_type": "stream",
     "text": [
      "C:\\anaconda3\\lib\\site-packages\\sklearn\\linear_model\\_logistic.py:762: ConvergenceWarning: lbfgs failed to converge (status=1):\n",
      "STOP: TOTAL NO. of ITERATIONS REACHED LIMIT.\n",
      "\n",
      "Increase the number of iterations (max_iter) or scale the data as shown in:\n",
      "    https://scikit-learn.org/stable/modules/preprocessing.html\n",
      "Please also refer to the documentation for alternative solver options:\n",
      "    https://scikit-learn.org/stable/modules/linear_model.html#logistic-regression\n",
      "  n_iter_i = _check_optimize_result(\n"
     ]
    },
    {
     "data": {
      "text/plain": [
       "LogisticRegression()"
      ]
     },
     "execution_count": 161,
     "metadata": {},
     "output_type": "execute_result"
    }
   ],
   "source": [
    "from sklearn.linear_model import LogisticRegression\n",
    "lreg = LogisticRegression()\n",
    "lreg.fit(x_train,y_train)"
   ]
  },
  {
   "cell_type": "code",
   "execution_count": 162,
   "metadata": {},
   "outputs": [
    {
     "name": "stdout",
     "output_type": "stream",
     "text": [
      "(5881, 563) (1471, 563) (5881,) (1471,)\n"
     ]
    }
   ],
   "source": [
    "print(x_train.shape,x_test.shape,y_train.shape,y_test.shape)"
   ]
  },
  {
   "cell_type": "code",
   "execution_count": 163,
   "metadata": {},
   "outputs": [
    {
     "data": {
      "text/plain": [
       "<matplotlib.colorbar.Colorbar at 0x28eaceae130>"
      ]
     },
     "execution_count": 163,
     "metadata": {},
     "output_type": "execute_result"
    },
    {
     "data": {
      "image/png": "[encoded data removed]",
      "text/plain": [
       "<Figure size 432x288 with 2 Axes>"
      ]
     },
     "metadata": {
      "needs_background": "light"
     },
     "output_type": "display_data"
    }
   ],
   "source": [
    "plt.imshow(test.corr())\n",
    "plt.colorbar()"
   ]
  },
  {
   "cell_type": "code",
   "execution_count": 164,
   "metadata": {},
   "outputs": [
    {
     "name": "stdout",
     "output_type": "stream",
     "text": [
      "[-0.06157955 -0.04970023 -0.18998974  0.18010233  0.02040015  0.10076704]\n",
      "[[-1.60769449e-01 -7.91218749e-03  5.02758744e-02 ... -1.01022114e-01\n",
      "  -5.68120359e-02  1.74115619e+00]\n",
      " [-1.76814096e-02  4.80562435e-02  4.76366971e-02 ... -1.81215200e-01\n",
      "  -7.11385132e-02 -3.55503683e+00]\n",
      " [-2.62804339e-02 -1.64945241e-02 -1.70359898e-02 ...  5.79841677e-02\n",
      "  -7.09200846e-02  3.84782245e+00]\n",
      " [ 3.38543112e-02 -5.11582184e-03  1.80641194e-03 ...  5.86311957e-02\n",
      "   6.83034156e-02 -3.48897411e+00]\n",
      " [ 2.19609399e-01  4.53888237e-02  2.49097680e-02 ...  1.30670594e-02\n",
      "   9.15099969e-02  2.05032897e+00]\n",
      " [-4.87324173e-02 -6.39225338e-02 -1.07592762e-01 ...  1.52554891e-01\n",
      "   3.90572212e-02 -5.95296674e-01]]\n"
     ]
    }
   ],
   "source": [
    "print(lreg.intercept_)\n",
    "print(lreg.coef_)"
   ]
  },
  {
   "cell_type": "markdown",
   "metadata": {},
   "source": [
    "# prediction making of logistic regression"
   ]
  },
  {
   "cell_type": "code",
   "execution_count": 165,
   "metadata": {},
   "outputs": [
    {
     "data": {
      "text/plain": [
       "array(['WALKING_UPSTAIRS', 'LAYING', 'SITTING', 'STANDING',\n",
       "       'WALKING_UPSTAIRS', 'WALKING_DOWNSTAIRS', 'STANDING',\n",
       "       'WALKING_DOWNSTAIRS', 'SITTING', 'LAYING', 'STANDING', 'LAYING',\n",
       "       'STANDING', 'WALKING', 'LAYING', 'LAYING', 'SITTING', 'LAYING',\n",
       "       'WALKING', 'WALKING_UPSTAIRS', 'WALKING_UPSTAIRS',\n",
       "       'WALKING_UPSTAIRS', 'STANDING', 'STANDING', 'SITTING', 'STANDING',\n",
       "       'LAYING', 'WALKING', 'SITTING', 'WALKING_UPSTAIRS',\n",
       "       'WALKING_DOWNSTAIRS', 'WALKING_DOWNSTAIRS', 'SITTING',\n",
       "       'WALKING_UPSTAIRS', 'STANDING', 'WALKING_DOWNSTAIRS',\n",
       "       'WALKING_UPSTAIRS', 'WALKING', 'WALKING', 'WALKING_DOWNSTAIRS',\n",
       "       'SITTING', 'WALKING_DOWNSTAIRS', 'STANDING', 'WALKING', 'LAYING',\n",
       "       'SITTING', 'LAYING', 'WALKING_UPSTAIRS', 'WALKING_UPSTAIRS',\n",
       "       'LAYING', 'SITTING', 'STANDING', 'STANDING', 'WALKING_DOWNSTAIRS',\n",
       "       'LAYING', 'STANDING', 'WALKING_UPSTAIRS', 'WALKING', 'LAYING',\n",
       "       'SITTING', 'LAYING', 'WALKING_DOWNSTAIRS', 'WALKING', 'LAYING',\n",
       "       'WALKING_DOWNSTAIRS', 'WALKING_UPSTAIRS', 'LAYING',\n",
       "       'WALKING_DOWNSTAIRS', 'WALKING_UPSTAIRS', 'WALKING', 'SITTING',\n",
       "       'SITTING', 'LAYING', 'WALKING_DOWNSTAIRS', 'WALKING_UPSTAIRS',\n",
       "       'STANDING', 'LAYING', 'WALKING', 'LAYING', 'STANDING',\n",
       "       'WALKING_UPSTAIRS', 'SITTING', 'WALKING', 'STANDING', 'WALKING',\n",
       "       'SITTING', 'SITTING', 'SITTING', 'WALKING_DOWNSTAIRS', 'STANDING',\n",
       "       'WALKING_UPSTAIRS', 'STANDING', 'LAYING', 'WALKING_DOWNSTAIRS',\n",
       "       'WALKING_UPSTAIRS', 'WALKING_UPSTAIRS', 'WALKING_DOWNSTAIRS',\n",
       "       'WALKING_DOWNSTAIRS', 'WALKING', 'WALKING', 'STANDING', 'STANDING',\n",
       "       'WALKING_DOWNSTAIRS', 'LAYING', 'STANDING', 'LAYING', 'WALKING',\n",
       "       'STANDING', 'STANDING', 'WALKING_UPSTAIRS', 'LAYING',\n",
       "       'WALKING_DOWNSTAIRS', 'SITTING', 'LAYING', 'LAYING',\n",
       "       'WALKING_DOWNSTAIRS', 'WALKING_DOWNSTAIRS', 'LAYING', 'SITTING',\n",
       "       'STANDING', 'SITTING', 'WALKING_UPSTAIRS', 'WALKING', 'SITTING',\n",
       "       'LAYING', 'STANDING', 'WALKING', 'WALKING', 'WALKING_DOWNSTAIRS',\n",
       "       'WALKING_DOWNSTAIRS', 'SITTING', 'WALKING_UPSTAIRS', 'LAYING',\n",
       "       'SITTING', 'SITTING', 'STANDING', 'SITTING', 'STANDING', 'WALKING',\n",
       "       'WALKING_DOWNSTAIRS', 'WALKING_UPSTAIRS', 'WALKING_DOWNSTAIRS',\n",
       "       'STANDING', 'WALKING_UPSTAIRS', 'WALKING_UPSTAIRS', 'SITTING',\n",
       "       'STANDING', 'SITTING', 'SITTING', 'LAYING', 'LAYING',\n",
       "       'WALKING_DOWNSTAIRS', 'STANDING', 'WALKING', 'LAYING', 'WALKING',\n",
       "       'WALKING', 'LAYING', 'LAYING', 'WALKING_DOWNSTAIRS', 'STANDING',\n",
       "       'LAYING', 'STANDING', 'WALKING_UPSTAIRS', 'WALKING_DOWNSTAIRS',\n",
       "       'WALKING_DOWNSTAIRS', 'STANDING', 'WALKING_UPSTAIRS',\n",
       "       'WALKING_UPSTAIRS', 'WALKING_UPSTAIRS', 'LAYING', 'LAYING',\n",
       "       'SITTING', 'SITTING', 'STANDING', 'STANDING', 'WALKING_UPSTAIRS',\n",
       "       'STANDING', 'LAYING', 'LAYING', 'WALKING', 'WALKING_UPSTAIRS',\n",
       "       'WALKING_UPSTAIRS', 'WALKING', 'WALKING_UPSTAIRS', 'LAYING',\n",
       "       'STANDING', 'LAYING', 'WALKING', 'WALKING_UPSTAIRS', 'SITTING',\n",
       "       'WALKING', 'WALKING', 'WALKING', 'WALKING_DOWNSTAIRS', 'WALKING',\n",
       "       'WALKING_DOWNSTAIRS', 'LAYING', 'WALKING', 'LAYING', 'SITTING',\n",
       "       'STANDING', 'WALKING_DOWNSTAIRS', 'LAYING', 'WALKING_DOWNSTAIRS',\n",
       "       'WALKING', 'SITTING', 'SITTING', 'WALKING_DOWNSTAIRS',\n",
       "       'WALKING_UPSTAIRS', 'WALKING_DOWNSTAIRS', 'WALKING', 'LAYING',\n",
       "       'STANDING', 'WALKING_UPSTAIRS', 'WALKING_UPSTAIRS', 'SITTING',\n",
       "       'WALKING_UPSTAIRS', 'WALKING', 'STANDING', 'WALKING_UPSTAIRS',\n",
       "       'WALKING_UPSTAIRS', 'SITTING', 'WALKING_UPSTAIRS',\n",
       "       'WALKING_UPSTAIRS', 'WALKING', 'STANDING', 'WALKING_UPSTAIRS',\n",
       "       'LAYING', 'WALKING_UPSTAIRS', 'WALKING_UPSTAIRS', 'WALKING',\n",
       "       'SITTING', 'WALKING_DOWNSTAIRS', 'LAYING', 'WALKING_UPSTAIRS',\n",
       "       'LAYING', 'LAYING', 'STANDING', 'STANDING', 'WALKING_DOWNSTAIRS',\n",
       "       'WALKING', 'SITTING', 'WALKING_UPSTAIRS', 'SITTING', 'LAYING',\n",
       "       'SITTING', 'LAYING', 'WALKING_UPSTAIRS', 'LAYING', 'WALKING',\n",
       "       'STANDING', 'LAYING', 'WALKING_DOWNSTAIRS', 'WALKING_UPSTAIRS',\n",
       "       'SITTING', 'STANDING', 'LAYING', 'SITTING', 'WALKING', 'LAYING',\n",
       "       'WALKING_DOWNSTAIRS', 'SITTING', 'STANDING', 'SITTING', 'STANDING',\n",
       "       'STANDING', 'LAYING', 'SITTING', 'SITTING', 'LAYING', 'SITTING',\n",
       "       'STANDING', 'STANDING', 'SITTING', 'SITTING', 'STANDING',\n",
       "       'STANDING', 'STANDING', 'LAYING', 'SITTING', 'WALKING', 'SITTING',\n",
       "       'STANDING', 'WALKING_UPSTAIRS', 'WALKING', 'STANDING', 'LAYING',\n",
       "       'WALKING_DOWNSTAIRS', 'WALKING', 'LAYING', 'LAYING', 'STANDING',\n",
       "       'SITTING', 'WALKING_UPSTAIRS', 'WALKING_DOWNSTAIRS',\n",
       "       'WALKING_UPSTAIRS', 'WALKING_DOWNSTAIRS', 'STANDING', 'WALKING'],\n",
       "      dtype=object)"
      ]
     },
     "execution_count": 165,
     "metadata": {},
     "output_type": "execute_result"
    }
   ],
   "source": [
    "y_pred = lreg.predict(x_test)\n",
    "y_pred[:300]"
   ]
  },
  {
   "cell_type": "code",
   "execution_count": 166,
   "metadata": {},
   "outputs": [
    {
     "data": {
      "text/html": [
       "<div>\n",
       "<style scoped>\n",
       "    .dataframe tbody tr th:only-of-type {\n",
       "        vertical-align: middle;\n",
       "    }\n",
       "\n",
       "    .dataframe tbody tr th {\n",
       "        vertical-align: top;\n",
       "    }\n",
       "\n",
       "    .dataframe thead th {\n",
       "        text-align: right;\n",
       "    }\n",
       "</style>\n",
       "<table border=\"1\" class=\"dataframe\">\n",
       "  <thead>\n",
       "    <tr style=\"text-align: right;\">\n",
       "      <th></th>\n",
       "      <th>Actual</th>\n",
       "      <th>Predict</th>\n",
       "    </tr>\n",
       "  </thead>\n",
       "  <tbody>\n",
       "    <tr>\n",
       "      <th>2206</th>\n",
       "      <td>WALKING_UPSTAIRS</td>\n",
       "      <td>WALKING_UPSTAIRS</td>\n",
       "    </tr>\n",
       "    <tr>\n",
       "      <th>237</th>\n",
       "      <td>LAYING</td>\n",
       "      <td>LAYING</td>\n",
       "    </tr>\n",
       "    <tr>\n",
       "      <th>2587</th>\n",
       "      <td>SITTING</td>\n",
       "      <td>SITTING</td>\n",
       "    </tr>\n",
       "    <tr>\n",
       "      <th>2718</th>\n",
       "      <td>STANDING</td>\n",
       "      <td>STANDING</td>\n",
       "    </tr>\n",
       "    <tr>\n",
       "      <th>1144</th>\n",
       "      <td>WALKING_UPSTAIRS</td>\n",
       "      <td>WALKING_UPSTAIRS</td>\n",
       "    </tr>\n",
       "    <tr>\n",
       "      <th>...</th>\n",
       "      <td>...</td>\n",
       "      <td>...</td>\n",
       "    </tr>\n",
       "    <tr>\n",
       "      <th>1617</th>\n",
       "      <td>WALKING_UPSTAIRS</td>\n",
       "      <td>WALKING_UPSTAIRS</td>\n",
       "    </tr>\n",
       "    <tr>\n",
       "      <th>1919</th>\n",
       "      <td>STANDING</td>\n",
       "      <td>STANDING</td>\n",
       "    </tr>\n",
       "    <tr>\n",
       "      <th>4718</th>\n",
       "      <td>STANDING</td>\n",
       "      <td>STANDING</td>\n",
       "    </tr>\n",
       "    <tr>\n",
       "      <th>4267</th>\n",
       "      <td>LAYING</td>\n",
       "      <td>LAYING</td>\n",
       "    </tr>\n",
       "    <tr>\n",
       "      <th>3493</th>\n",
       "      <td>LAYING</td>\n",
       "      <td>LAYING</td>\n",
       "    </tr>\n",
       "  </tbody>\n",
       "</table>\n",
       "<p>1471 rows × 2 columns</p>\n",
       "</div>"
      ],
      "text/plain": [
       "                Actual           Predict\n",
       "2206  WALKING_UPSTAIRS  WALKING_UPSTAIRS\n",
       "237             LAYING            LAYING\n",
       "2587           SITTING           SITTING\n",
       "2718          STANDING          STANDING\n",
       "1144  WALKING_UPSTAIRS  WALKING_UPSTAIRS\n",
       "...                ...               ...\n",
       "1617  WALKING_UPSTAIRS  WALKING_UPSTAIRS\n",
       "1919          STANDING          STANDING\n",
       "4718          STANDING          STANDING\n",
       "4267            LAYING            LAYING\n",
       "3493            LAYING            LAYING\n",
       "\n",
       "[1471 rows x 2 columns]"
      ]
     },
     "execution_count": 166,
     "metadata": {},
     "output_type": "execute_result"
    }
   ],
   "source": [
    "results = pd.DataFrame({\"Actual\":y_test,\"Predict\":y_pred})\n",
    "results"
   ]
  },
  {
   "cell_type": "code",
   "execution_count": 167,
   "metadata": {},
   "outputs": [
    {
     "data": {
      "text/plain": [
       "0.9993201903467029"
      ]
     },
     "execution_count": 167,
     "metadata": {},
     "output_type": "execute_result"
    }
   ],
   "source": [
    "from sklearn.metrics import accuracy_score\n",
    "accuracy_score(y_test,y_pred)\n"
   ]
  },
  {
   "cell_type": "code",
   "execution_count": 168,
   "metadata": {},
   "outputs": [
    {
     "data": {
      "text/plain": [
       "0.9517335146159075"
      ]
     },
     "execution_count": 168,
     "metadata": {},
     "output_type": "execute_result"
    }
   ],
   "source": [
    "1400/1471"
   ]
  },
  {
   "cell_type": "markdown",
   "metadata": {},
   "source": [
    "# Building a RandomForestClassifier¶"
   ]
  },
  {
   "cell_type": "code",
   "execution_count": 169,
   "metadata": {},
   "outputs": [],
   "source": [
    "from sklearn.model_selection import train_test_split\n",
    "x_train,x_test,y_train,y_test = train_test_split(x,y,test_size=0.2)"
   ]
  },
  {
   "cell_type": "code",
   "execution_count": 170,
   "metadata": {},
   "outputs": [],
   "source": [
    "x = train.drop(\"ActivityName\",axis=1)\n",
    "y = train[\"ActivityName\"]"
   ]
  },
  {
   "cell_type": "code",
   "execution_count": 171,
   "metadata": {},
   "outputs": [
    {
     "data": {
      "text/plain": [
       "RandomForestClassifier()"
      ]
     },
     "execution_count": 171,
     "metadata": {},
     "output_type": "execute_result"
    }
   ],
   "source": [
    "from sklearn.ensemble import RandomForestClassifier\n",
    "rf = RandomForestClassifier()\n",
    "rf.fit(x_train,y_train)"
   ]
  },
  {
   "cell_type": "code",
   "execution_count": 172,
   "metadata": {},
   "outputs": [
    {
     "name": "stdout",
     "output_type": "stream",
     "text": [
      "(5881, 563) (1471, 563) (5881,) (1471,)\n"
     ]
    }
   ],
   "source": [
    "print(x_train.shape,x_test.shape,y_train.shape,y_test.shape)"
   ]
  },
  {
   "cell_type": "code",
   "execution_count": 173,
   "metadata": {},
   "outputs": [],
   "source": [
    "rf_pred = rf.predict(x_test)"
   ]
  },
  {
   "cell_type": "code",
   "execution_count": 174,
   "metadata": {},
   "outputs": [
    {
     "data": {
      "text/html": [
       "<div>\n",
       "<style scoped>\n",
       "    .dataframe tbody tr th:only-of-type {\n",
       "        vertical-align: middle;\n",
       "    }\n",
       "\n",
       "    .dataframe tbody tr th {\n",
       "        vertical-align: top;\n",
       "    }\n",
       "\n",
       "    .dataframe thead th {\n",
       "        text-align: right;\n",
       "    }\n",
       "</style>\n",
       "<table border=\"1\" class=\"dataframe\">\n",
       "  <thead>\n",
       "    <tr style=\"text-align: right;\">\n",
       "      <th></th>\n",
       "      <th>Actual</th>\n",
       "      <th>Predict</th>\n",
       "    </tr>\n",
       "  </thead>\n",
       "  <tbody>\n",
       "    <tr>\n",
       "      <th>3114</th>\n",
       "      <td>SITTING</td>\n",
       "      <td>SITTING</td>\n",
       "    </tr>\n",
       "    <tr>\n",
       "      <th>1390</th>\n",
       "      <td>LAYING</td>\n",
       "      <td>LAYING</td>\n",
       "    </tr>\n",
       "    <tr>\n",
       "      <th>2414</th>\n",
       "      <td>SITTING</td>\n",
       "      <td>SITTING</td>\n",
       "    </tr>\n",
       "    <tr>\n",
       "      <th>756</th>\n",
       "      <td>LAYING</td>\n",
       "      <td>LAYING</td>\n",
       "    </tr>\n",
       "    <tr>\n",
       "      <th>1353</th>\n",
       "      <td>SITTING</td>\n",
       "      <td>SITTING</td>\n",
       "    </tr>\n",
       "    <tr>\n",
       "      <th>...</th>\n",
       "      <td>...</td>\n",
       "      <td>...</td>\n",
       "    </tr>\n",
       "    <tr>\n",
       "      <th>1169</th>\n",
       "      <td>STANDING</td>\n",
       "      <td>STANDING</td>\n",
       "    </tr>\n",
       "    <tr>\n",
       "      <th>5756</th>\n",
       "      <td>LAYING</td>\n",
       "      <td>LAYING</td>\n",
       "    </tr>\n",
       "    <tr>\n",
       "      <th>5299</th>\n",
       "      <td>STANDING</td>\n",
       "      <td>STANDING</td>\n",
       "    </tr>\n",
       "    <tr>\n",
       "      <th>6112</th>\n",
       "      <td>SITTING</td>\n",
       "      <td>SITTING</td>\n",
       "    </tr>\n",
       "    <tr>\n",
       "      <th>1108</th>\n",
       "      <td>WALKING_DOWNSTAIRS</td>\n",
       "      <td>WALKING_DOWNSTAIRS</td>\n",
       "    </tr>\n",
       "  </tbody>\n",
       "</table>\n",
       "<p>1471 rows × 2 columns</p>\n",
       "</div>"
      ],
      "text/plain": [
       "                  Actual             Predict\n",
       "3114             SITTING             SITTING\n",
       "1390              LAYING              LAYING\n",
       "2414             SITTING             SITTING\n",
       "756               LAYING              LAYING\n",
       "1353             SITTING             SITTING\n",
       "...                  ...                 ...\n",
       "1169            STANDING            STANDING\n",
       "5756              LAYING              LAYING\n",
       "5299            STANDING            STANDING\n",
       "6112             SITTING             SITTING\n",
       "1108  WALKING_DOWNSTAIRS  WALKING_DOWNSTAIRS\n",
       "\n",
       "[1471 rows x 2 columns]"
      ]
     },
     "execution_count": 174,
     "metadata": {},
     "output_type": "execute_result"
    }
   ],
   "source": [
    "results = pd.DataFrame({\"Actual\":y_test,\"Predict\":rf_pred})\n",
    "results"
   ]
  },
  {
   "cell_type": "code",
   "execution_count": 175,
   "metadata": {},
   "outputs": [
    {
     "data": {
      "text/plain": [
       "0.1726716519374575"
      ]
     },
     "execution_count": 175,
     "metadata": {},
     "output_type": "execute_result"
    }
   ],
   "source": [
    "from sklearn.metrics import accuracy_score\n",
    "accuracy_score(y_test,y_pred)"
   ]
  },
  {
   "cell_type": "code",
   "execution_count": 176,
   "metadata": {},
   "outputs": [
    {
     "data": {
      "text/plain": [
       "0.9972807613868117"
      ]
     },
     "execution_count": 176,
     "metadata": {},
     "output_type": "execute_result"
    }
   ],
   "source": [
    "accuracy_score(y_test,rf_pred)"
   ]
  },
  {
   "cell_type": "markdown",
   "metadata": {},
   "source": [
    "# Building NaiveBayes"
   ]
  },
  {
   "cell_type": "code",
   "execution_count": 177,
   "metadata": {},
   "outputs": [
    {
     "data": {
      "text/plain": [
       "GaussianNB()"
      ]
     },
     "execution_count": 177,
     "metadata": {},
     "output_type": "execute_result"
    }
   ],
   "source": [
    "from sklearn.naive_bayes import GaussianNB\n",
    "GNB =  GaussianNB()\n",
    "GNB.fit(x_train,y_train)"
   ]
  },
  {
   "cell_type": "code",
   "execution_count": 178,
   "metadata": {},
   "outputs": [
    {
     "data": {
      "text/plain": [
       "array(['SITTING', 'LAYING', 'SITTING', ..., 'STANDING', 'SITTING',\n",
       "       'WALKING_DOWNSTAIRS'], dtype='<U18')"
      ]
     },
     "execution_count": 178,
     "metadata": {},
     "output_type": "execute_result"
    }
   ],
   "source": [
    "y_pred = GNB.predict(x_test)\n",
    "y_pred[:5000]"
   ]
  },
  {
   "cell_type": "code",
   "execution_count": 179,
   "metadata": {},
   "outputs": [],
   "source": [
    "GNB_pred = GNB.predict(x_test)"
   ]
  },
  {
   "cell_type": "code",
   "execution_count": 180,
   "metadata": {},
   "outputs": [
    {
     "data": {
      "text/html": [
       "<div>\n",
       "<style scoped>\n",
       "    .dataframe tbody tr th:only-of-type {\n",
       "        vertical-align: middle;\n",
       "    }\n",
       "\n",
       "    .dataframe tbody tr th {\n",
       "        vertical-align: top;\n",
       "    }\n",
       "\n",
       "    .dataframe thead th {\n",
       "        text-align: right;\n",
       "    }\n",
       "</style>\n",
       "<table border=\"1\" class=\"dataframe\">\n",
       "  <thead>\n",
       "    <tr style=\"text-align: right;\">\n",
       "      <th></th>\n",
       "      <th>Actual</th>\n",
       "      <th>Predict</th>\n",
       "    </tr>\n",
       "  </thead>\n",
       "  <tbody>\n",
       "    <tr>\n",
       "      <th>3114</th>\n",
       "      <td>SITTING</td>\n",
       "      <td>SITTING</td>\n",
       "    </tr>\n",
       "    <tr>\n",
       "      <th>1390</th>\n",
       "      <td>LAYING</td>\n",
       "      <td>LAYING</td>\n",
       "    </tr>\n",
       "    <tr>\n",
       "      <th>2414</th>\n",
       "      <td>SITTING</td>\n",
       "      <td>SITTING</td>\n",
       "    </tr>\n",
       "    <tr>\n",
       "      <th>756</th>\n",
       "      <td>LAYING</td>\n",
       "      <td>LAYING</td>\n",
       "    </tr>\n",
       "    <tr>\n",
       "      <th>1353</th>\n",
       "      <td>SITTING</td>\n",
       "      <td>SITTING</td>\n",
       "    </tr>\n",
       "    <tr>\n",
       "      <th>...</th>\n",
       "      <td>...</td>\n",
       "      <td>...</td>\n",
       "    </tr>\n",
       "    <tr>\n",
       "      <th>1169</th>\n",
       "      <td>STANDING</td>\n",
       "      <td>STANDING</td>\n",
       "    </tr>\n",
       "    <tr>\n",
       "      <th>5756</th>\n",
       "      <td>LAYING</td>\n",
       "      <td>LAYING</td>\n",
       "    </tr>\n",
       "    <tr>\n",
       "      <th>5299</th>\n",
       "      <td>STANDING</td>\n",
       "      <td>STANDING</td>\n",
       "    </tr>\n",
       "    <tr>\n",
       "      <th>6112</th>\n",
       "      <td>SITTING</td>\n",
       "      <td>SITTING</td>\n",
       "    </tr>\n",
       "    <tr>\n",
       "      <th>1108</th>\n",
       "      <td>WALKING_DOWNSTAIRS</td>\n",
       "      <td>WALKING_DOWNSTAIRS</td>\n",
       "    </tr>\n",
       "  </tbody>\n",
       "</table>\n",
       "<p>1471 rows × 2 columns</p>\n",
       "</div>"
      ],
      "text/plain": [
       "                  Actual             Predict\n",
       "3114             SITTING             SITTING\n",
       "1390              LAYING              LAYING\n",
       "2414             SITTING             SITTING\n",
       "756               LAYING              LAYING\n",
       "1353             SITTING             SITTING\n",
       "...                  ...                 ...\n",
       "1169            STANDING            STANDING\n",
       "5756              LAYING              LAYING\n",
       "5299            STANDING            STANDING\n",
       "6112             SITTING             SITTING\n",
       "1108  WALKING_DOWNSTAIRS  WALKING_DOWNSTAIRS\n",
       "\n",
       "[1471 rows x 2 columns]"
      ]
     },
     "execution_count": 180,
     "metadata": {},
     "output_type": "execute_result"
    }
   ],
   "source": [
    "results = pd.DataFrame({\"Actual\":y_test,\"Predict\":y_pred})\n",
    "results"
   ]
  },
  {
   "cell_type": "code",
   "execution_count": 191,
   "metadata": {},
   "outputs": [
    {
     "data": {
      "text/plain": [
       "0.9782460910944936"
      ]
     },
     "execution_count": 191,
     "metadata": {},
     "output_type": "execute_result"
    }
   ],
   "source": [
    "from sklearn.metrics import accuracy_score\n",
    "accuracy_score(y_test,y_pred)"
   ]
  },
  {
   "cell_type": "code",
   "execution_count": 190,
   "metadata": {},
   "outputs": [
    {
     "data": {
      "text/plain": [
       "1.0"
      ]
     },
     "execution_count": 190,
     "metadata": {},
     "output_type": "execute_result"
    }
   ],
   "source": [
    "accuracy_score(y_test,GNB_pred)"
   ]
  },
  {
   "cell_type": "markdown",
   "metadata": {},
   "source": [
    "# Building k-nearest neighbors "
   ]
  },
  {
   "cell_type": "code",
   "execution_count": 183,
   "metadata": {},
   "outputs": [],
   "source": [
    "from sklearn.neighbors import KNeighborsClassifier\n",
    "Knn = KNeighborsClassifier()"
   ]
  },
  {
   "cell_type": "code",
   "execution_count": 184,
   "metadata": {},
   "outputs": [],
   "source": [
    "knn.fit(x_train,y_train)\n",
    "y_pred = knn.predict(x_test)\n"
   ]
  },
  {
   "cell_type": "code",
   "execution_count": 185,
   "metadata": {},
   "outputs": [
    {
     "name": "stdout",
     "output_type": "stream",
     "text": [
      "(5881, 563) (1471, 563) (5881,) (1471,)\n"
     ]
    }
   ],
   "source": [
    "print(x_train.shape,x_test.shape,y_train.shape,y_test.shape)"
   ]
  },
  {
   "cell_type": "code",
   "execution_count": 186,
   "metadata": {},
   "outputs": [
    {
     "data": {
      "text/html": [
       "<div>\n",
       "<style scoped>\n",
       "    .dataframe tbody tr th:only-of-type {\n",
       "        vertical-align: middle;\n",
       "    }\n",
       "\n",
       "    .dataframe tbody tr th {\n",
       "        vertical-align: top;\n",
       "    }\n",
       "\n",
       "    .dataframe thead th {\n",
       "        text-align: right;\n",
       "    }\n",
       "</style>\n",
       "<table border=\"1\" class=\"dataframe\">\n",
       "  <thead>\n",
       "    <tr style=\"text-align: right;\">\n",
       "      <th></th>\n",
       "      <th>Actual</th>\n",
       "      <th>Predict</th>\n",
       "    </tr>\n",
       "  </thead>\n",
       "  <tbody>\n",
       "    <tr>\n",
       "      <th>3114</th>\n",
       "      <td>SITTING</td>\n",
       "      <td>SITTING</td>\n",
       "    </tr>\n",
       "    <tr>\n",
       "      <th>1390</th>\n",
       "      <td>LAYING</td>\n",
       "      <td>LAYING</td>\n",
       "    </tr>\n",
       "    <tr>\n",
       "      <th>2414</th>\n",
       "      <td>SITTING</td>\n",
       "      <td>SITTING</td>\n",
       "    </tr>\n",
       "    <tr>\n",
       "      <th>756</th>\n",
       "      <td>LAYING</td>\n",
       "      <td>LAYING</td>\n",
       "    </tr>\n",
       "    <tr>\n",
       "      <th>1353</th>\n",
       "      <td>SITTING</td>\n",
       "      <td>SITTING</td>\n",
       "    </tr>\n",
       "    <tr>\n",
       "      <th>...</th>\n",
       "      <td>...</td>\n",
       "      <td>...</td>\n",
       "    </tr>\n",
       "    <tr>\n",
       "      <th>1169</th>\n",
       "      <td>STANDING</td>\n",
       "      <td>STANDING</td>\n",
       "    </tr>\n",
       "    <tr>\n",
       "      <th>5756</th>\n",
       "      <td>LAYING</td>\n",
       "      <td>LAYING</td>\n",
       "    </tr>\n",
       "    <tr>\n",
       "      <th>5299</th>\n",
       "      <td>STANDING</td>\n",
       "      <td>STANDING</td>\n",
       "    </tr>\n",
       "    <tr>\n",
       "      <th>6112</th>\n",
       "      <td>SITTING</td>\n",
       "      <td>SITTING</td>\n",
       "    </tr>\n",
       "    <tr>\n",
       "      <th>1108</th>\n",
       "      <td>WALKING_DOWNSTAIRS</td>\n",
       "      <td>WALKING_DOWNSTAIRS</td>\n",
       "    </tr>\n",
       "  </tbody>\n",
       "</table>\n",
       "<p>1471 rows × 2 columns</p>\n",
       "</div>"
      ],
      "text/plain": [
       "                  Actual             Predict\n",
       "3114             SITTING             SITTING\n",
       "1390              LAYING              LAYING\n",
       "2414             SITTING             SITTING\n",
       "756               LAYING              LAYING\n",
       "1353             SITTING             SITTING\n",
       "...                  ...                 ...\n",
       "1169            STANDING            STANDING\n",
       "5756              LAYING              LAYING\n",
       "5299            STANDING            STANDING\n",
       "6112             SITTING             SITTING\n",
       "1108  WALKING_DOWNSTAIRS  WALKING_DOWNSTAIRS\n",
       "\n",
       "[1471 rows x 2 columns]"
      ]
     },
     "execution_count": 186,
     "metadata": {},
     "output_type": "execute_result"
    }
   ],
   "source": [
    "re = pd.DataFrame({\"Actual\":y_test,\"Predict\":y_pred})\n",
    "re"
   ]
  },
  {
   "cell_type": "code",
   "execution_count": 187,
   "metadata": {},
   "outputs": [
    {
     "data": {
      "text/plain": [
       "0.9782460910944936"
      ]
     },
     "execution_count": 187,
     "metadata": {},
     "output_type": "execute_result"
    }
   ],
   "source": [
    "accuracy_score(y_test,y_pred)"
   ]
  },
  {
   "cell_type": "code",
   "execution_count": 188,
   "metadata": {},
   "outputs": [
    {
     "data": {
      "text/plain": [
       "0.9782460910944936"
      ]
     },
     "execution_count": 188,
     "metadata": {},
     "output_type": "execute_result"
    }
   ],
   "source": [
    "accuracy_score(y_test,knn.predict(x_test))"
   ]
  },
  {
   "cell_type": "code",
   "execution_count": null,
   "metadata": {},
   "outputs": [],
   "source": []
  }
 ],
 "metadata": {
  "kernelspec": {
   "display_name": "Python 3",
   "language": "python",
   "name": "python3"
  },
  "language_info": {
   "codemirror_mode": {
    "name": "ipython",
    "version": 3
   },
   "file_extension": ".py",
   "mimetype": "text/x-python",
   "name": "python",
   "nbconvert_exporter": "python",
   "pygments_lexer": "ipython3",
   "version": "3.8.3"
  }
 },
 "nbformat": 4,
 "nbformat_minor": 4
}
